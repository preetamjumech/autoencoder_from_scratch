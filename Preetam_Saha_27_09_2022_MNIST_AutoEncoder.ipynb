{
  "nbformat": 4,
  "nbformat_minor": 0,
  "metadata": {
    "colab": {
      "provenance": [],
      "collapsed_sections": [],
      "authorship_tag": "ABX9TyP2Zi9YjINYisFXIYzVjG3m",
      "include_colab_link": true
    },
    "kernelspec": {
      "name": "python3",
      "display_name": "Python 3"
    },
    "language_info": {
      "name": "python"
    }
  },
  "cells": [
    {
      "cell_type": "markdown",
      "metadata": {
        "id": "view-in-github",
        "colab_type": "text"
      },
      "source": [
        "<a href=\"https://colab.research.google.com/github/preetamjumech/autoencoder_from_scratch/blob/main/Preetam_Saha_27_09_2022_MNIST_AutoEncoder.ipynb\" target=\"_parent\"><img src=\"https://colab.research.google.com/assets/colab-badge.svg\" alt=\"Open In Colab\"/></a>"
      ]
    },
    {
      "cell_type": "code",
      "execution_count": 15,
      "metadata": {
        "colab": {
          "base_uri": "https://localhost:8080/"
        },
        "id": "Qkk89KscW1Nj",
        "outputId": "efd97509-8f34-4e45-9f87-c78845fc34d3"
      },
      "outputs": [
        {
          "output_type": "stream",
          "name": "stdout",
          "text": [
            "--2022-09-27 15:30:15--  https://github.com/MorvanZhou/PyTorch-Tutorial/raw/master/tutorial-contents-notebooks/mnist/processed/training.pt\n",
            "Resolving github.com (github.com)... 140.82.113.4\n",
            "Connecting to github.com (github.com)|140.82.113.4|:443... connected.\n",
            "HTTP request sent, awaiting response... 302 Found\n",
            "Location: https://raw.githubusercontent.com/MorvanZhou/PyTorch-Tutorial/master/tutorial-contents-notebooks/mnist/processed/training.pt [following]\n",
            "--2022-09-27 15:30:15--  https://raw.githubusercontent.com/MorvanZhou/PyTorch-Tutorial/master/tutorial-contents-notebooks/mnist/processed/training.pt\n",
            "Resolving raw.githubusercontent.com (raw.githubusercontent.com)... 185.199.108.133, 185.199.109.133, 185.199.110.133, ...\n",
            "Connecting to raw.githubusercontent.com (raw.githubusercontent.com)|185.199.108.133|:443... connected.\n",
            "HTTP request sent, awaiting response... 200 OK\n",
            "Length: 47520431 (45M) [application/octet-stream]\n",
            "Saving to: ‘training.pt.4’\n",
            "\n",
            "training.pt.4       100%[===================>]  45.32M   194MB/s    in 0.2s    \n",
            "\n",
            "2022-09-27 15:30:15 (194 MB/s) - ‘training.pt.4’ saved [47520431/47520431]\n",
            "\n",
            "--2022-09-27 15:30:15--  https://github.com/MorvanZhou/PyTorch-Tutorial/raw/master/tutorial-contents-notebooks/mnist/processed/test.pt\n",
            "Resolving github.com (github.com)... 140.82.112.3\n",
            "Connecting to github.com (github.com)|140.82.112.3|:443... connected.\n",
            "HTTP request sent, awaiting response... 302 Found\n",
            "Location: https://raw.githubusercontent.com/MorvanZhou/PyTorch-Tutorial/master/tutorial-contents-notebooks/mnist/processed/test.pt [following]\n",
            "--2022-09-27 15:30:16--  https://raw.githubusercontent.com/MorvanZhou/PyTorch-Tutorial/master/tutorial-contents-notebooks/mnist/processed/test.pt\n",
            "Resolving raw.githubusercontent.com (raw.githubusercontent.com)... 185.199.108.133, 185.199.111.133, 185.199.109.133, ...\n",
            "Connecting to raw.githubusercontent.com (raw.githubusercontent.com)|185.199.108.133|:443... connected.\n",
            "HTTP request sent, awaiting response... 200 OK\n",
            "Length: 7920431 (7.6M) [application/octet-stream]\n",
            "Saving to: ‘test.pt.4’\n",
            "\n",
            "test.pt.4           100%[===================>]   7.55M  --.-KB/s    in 0.09s   \n",
            "\n",
            "2022-09-27 15:30:16 (84.2 MB/s) - ‘test.pt.4’ saved [7920431/7920431]\n",
            "\n"
          ]
        }
      ],
      "source": [
        "!wget https://github.com/MorvanZhou/PyTorch-Tutorial/raw/master/tutorial-contents-notebooks/mnist/processed/training.pt\n",
        "!wget https://github.com/MorvanZhou/PyTorch-Tutorial/raw/master/tutorial-contents-notebooks/mnist/processed/test.pt"
      ]
    },
    {
      "cell_type": "code",
      "source": [
        "import torch\n",
        "import torch.nn as nn\n",
        "import torch.nn.functional as F\n",
        "from torch.utils.data import DataLoader, TensorDataset\n",
        "from torch.optim import Adam\n",
        "import matplotlib.pyplot as plt\n",
        "import numpy as np\n",
        "import pandas as pd"
      ],
      "metadata": {
        "id": "A0rg5iVeXMZB"
      },
      "execution_count": 16,
      "outputs": []
    },
    {
      "cell_type": "code",
      "source": [
        "train, test = torch.load(\"training.pt\"),torch.load(\"test.pt\")"
      ],
      "metadata": {
        "id": "e7I-5zAUYvaZ"
      },
      "execution_count": 18,
      "outputs": []
    },
    {
      "cell_type": "code",
      "source": [
        "(x_train, y_train), (x_test,y_test) = (train, test)"
      ],
      "metadata": {
        "id": "waPMJQ6MZNtG"
      },
      "execution_count": 19,
      "outputs": []
    },
    {
      "cell_type": "code",
      "source": [
        "x_train.shape"
      ],
      "metadata": {
        "colab": {
          "base_uri": "https://localhost:8080/"
        },
        "id": "LAIAJLUUZt0A",
        "outputId": "f1d9ad8d-4752-4e63-dc16-a9ab31e9ad0b"
      },
      "execution_count": 20,
      "outputs": [
        {
          "output_type": "execute_result",
          "data": {
            "text/plain": [
              "torch.Size([60000, 28, 28])"
            ]
          },
          "metadata": {},
          "execution_count": 20
        }
      ]
    },
    {
      "cell_type": "code",
      "source": [
        "x_train=x_train.reshape(-1,28*28)/255.\n",
        "x_test=x_test.reshape(-1,28*28)/255."
      ],
      "metadata": {
        "id": "b7nBJ0cvZ_1A"
      },
      "execution_count": 21,
      "outputs": []
    },
    {
      "cell_type": "code",
      "source": [
        "encoder = nn.Sequential(nn.Linear(in_features = 28*28, out_features= 256), # if im using linear activation , will be similiar to pca, we will use non-linear here\n",
        "                       nn.ReLU(),\n",
        "                       nn.Linear(in_features=256,out_features=128),\n",
        "                       nn.ReLU(),\n",
        "                       nn.Linear(in_features=128,out_features=64),\n",
        "                       nn.ReLU(),\n",
        "                       nn.Linear(in_features=64,out_features=16))"
      ],
      "metadata": {
        "id": "tcj5k8j-jKVk"
      },
      "execution_count": 22,
      "outputs": []
    },
    {
      "cell_type": "code",
      "source": [
        "decoder = nn.Sequential(nn.Linear(in_features = 16, out_features= 64), \n",
        "                       nn.ReLU(),\n",
        "                       nn.Linear(in_features=64,out_features=128),\n",
        "                       nn.ReLU(),\n",
        "                       nn.Linear(in_features=128,out_features=256),\n",
        "                       nn.ReLU(),\n",
        "                       nn.Linear(in_features=256,out_features=28*28))"
      ],
      "metadata": {
        "id": "8x7toPDTb1D7"
      },
      "execution_count": 23,
      "outputs": []
    },
    {
      "cell_type": "code",
      "source": [
        "autoencoder = nn.Sequential(encoder, decoder)"
      ],
      "metadata": {
        "id": "ubgLHuFgcKBH"
      },
      "execution_count": 24,
      "outputs": []
    },
    {
      "cell_type": "code",
      "source": [
        "train_loader = DataLoader(TensorDataset(x_train.float(),y_train),\n",
        "                                        batch_size=64,shuffle=True)\n",
        "val_loader = DataLoader(TensorDataset(x_test.float(),y_test),\n",
        "                                        batch_size=64,shuffle=True)"
      ],
      "metadata": {
        "id": "GXKpI_zQcqll"
      },
      "execution_count": 25,
      "outputs": []
    },
    {
      "cell_type": "code",
      "source": [
        "device = torch.device(\"cuda\") if torch.cuda.is_available() else \"cpu\""
      ],
      "metadata": {
        "id": "MWXU-CSkdlCx"
      },
      "execution_count": 26,
      "outputs": []
    },
    {
      "cell_type": "code",
      "source": [
        "epochs=10\n",
        "autoencoder = autoencoder.to(device)\n",
        "opt = Adam(autoencoder.parameters())"
      ],
      "metadata": {
        "id": "Bp35cak_hYg_"
      },
      "execution_count": 27,
      "outputs": []
    },
    {
      "cell_type": "code",
      "source": [
        "def training(model,train_loader,val_loader,opt,epoch):\n",
        "  training_loss = 0.0\n",
        "  val_loss = 0.0\n",
        "\n",
        "#training portion\n",
        "  for batch, _ in train_loader: #not building any classification model, so input = ouput\n",
        "    batch = batch.to(device)\n",
        "    target = batch.to(device)\n",
        "\n",
        "    opt.zero_grad()\n",
        "    train_output = model(batch)\n",
        "    train_loss = F.mse_loss(train_output,target)\n",
        "    train_loss.backward()\n",
        "    opt.step()\n",
        "    training_loss += train_loss.item()\n",
        "\n",
        "  if (epoch+1) %  2 ==0:\n",
        "    print(f\"Train loss: {training_loss}\")\n",
        "\n",
        "#validation part\n",
        "  with torch.no_grad():\n",
        "    for val_batch, _ in val_loader:\n",
        "      val_batch = val_batch.to(device)\n",
        "      val_target = val_batch.to(device)\n",
        "      \n",
        "      val_output = model(val_batch)\n",
        "      loss_val = F.mse_loss(val_output,val_target)\n",
        "      val_loss += loss_val.item()\n",
        "\n",
        "  \n",
        "  if (epoch+1) %  2 ==0:\n",
        "    print(f\"Train loss: {training_loss} and Val loss: {val_loss}\")\n",
        "\n",
        "  return (training_loss, val_loss)"
      ],
      "metadata": {
        "id": "hy-8noxUiWPJ"
      },
      "execution_count": 30,
      "outputs": []
    },
    {
      "cell_type": "code",
      "source": [
        "losses = []\n",
        "for epoch in range(epochs):\n",
        "  losses.append(training(autoencoder,train_loader=train_loader, val_loader=val_loader,\n",
        "                      opt=opt,epoch=epoch))"
      ],
      "metadata": {
        "colab": {
          "base_uri": "https://localhost:8080/"
        },
        "id": "-UrSS1AOicTn",
        "outputId": "5d7fd903-df74-4690-f1de-413fe599098c"
      },
      "execution_count": 31,
      "outputs": [
        {
          "output_type": "stream",
          "name": "stdout",
          "text": [
            "Train loss: 23.14188232459128\n",
            "Train loss: 23.14188232459128 and Val loss: 3.4236764945089817\n",
            "Train loss: 17.815302472561598\n",
            "Train loss: 17.815302472561598 and Val loss: 2.83911619707942\n",
            "Train loss: 15.927962688729167\n",
            "Train loss: 15.927962688729167 and Val loss: 2.575563413091004\n",
            "Train loss: 14.657351191155612\n",
            "Train loss: 14.657351191155612 and Val loss: 2.3960998291149735\n",
            "Train loss: 13.707651874050498\n",
            "Train loss: 13.707651874050498 and Val loss: 2.249149705283344\n"
          ]
        }
      ]
    },
    {
      "cell_type": "code",
      "source": [
        "idx = 20\n",
        "img_arbit = x_test[idx]"
      ],
      "metadata": {
        "id": "oPSTL8tVlF9o"
      },
      "execution_count": 32,
      "outputs": []
    },
    {
      "cell_type": "code",
      "source": [
        "img_arbit.shape"
      ],
      "metadata": {
        "colab": {
          "base_uri": "https://localhost:8080/"
        },
        "id": "yCLPDZvBlnAr",
        "outputId": "08368fa3-bb82-4c5c-8f61-150967884e65"
      },
      "execution_count": 33,
      "outputs": [
        {
          "output_type": "execute_result",
          "data": {
            "text/plain": [
              "torch.Size([784])"
            ]
          },
          "metadata": {},
          "execution_count": 33
        }
      ]
    },
    {
      "cell_type": "code",
      "source": [
        "plt.imshow(img_arbit.numpy().reshape(28,28))"
      ],
      "metadata": {
        "colab": {
          "base_uri": "https://localhost:8080/",
          "height": 282
        },
        "id": "3tZhoOPxih40",
        "outputId": "390e3d50-198c-4e1b-985c-1aa74257901d"
      },
      "execution_count": 34,
      "outputs": [
        {
          "output_type": "execute_result",
          "data": {
            "text/plain": [
              "<matplotlib.image.AxesImage at 0x7f0031c8dc10>"
            ]
          },
          "metadata": {},
          "execution_count": 34
        },
        {
          "output_type": "display_data",
          "data": {
            "text/plain": [
              "<Figure size 432x288 with 1 Axes>"
            ],
            "image/png": "[encoded data removed]"
          },
          "metadata": {
            "needs_background": "light"
          }
        }
      ]
    },
    {
      "cell_type": "code",
      "source": [
        "#here also kind of embeeding not exactly like text\n",
        "input_data = img_arbit.reshape(1,-1).float().to(device)\n",
        "input_data.shape"
      ],
      "metadata": {
        "colab": {
          "base_uri": "https://localhost:8080/"
        },
        "id": "jJiiBO22lQvT",
        "outputId": "65c0d0fb-a613-43da-b978-667f615b722a"
      },
      "execution_count": 35,
      "outputs": [
        {
          "output_type": "execute_result",
          "data": {
            "text/plain": [
              "torch.Size([1, 784])"
            ]
          },
          "metadata": {},
          "execution_count": 35
        }
      ]
    },
    {
      "cell_type": "code",
      "source": [
        "input_data"
      ],
      "metadata": {
        "id": "DqqogtUImB1s"
      },
      "execution_count": null,
      "outputs": []
    },
    {
      "cell_type": "code",
      "source": [
        "output_encoder = encoder(input_data)\n",
        "output_encoder"
      ],
      "metadata": {
        "colab": {
          "base_uri": "https://localhost:8080/"
        },
        "id": "xvzfgfdvlv4R",
        "outputId": "af0ff6a0-31c7-4b95-83ab-779243a600a7"
      },
      "execution_count": 36,
      "outputs": [
        {
          "output_type": "execute_result",
          "data": {
            "text/plain": [
              "tensor([[-1.3092,  2.1636, -0.1991,  1.2473, -1.6391, -0.3032,  2.1018,  1.3782,\n",
              "          0.6327, -0.7808,  0.3310, -2.2270, -0.6108, -0.2314,  1.4148,  0.6826]],\n",
              "       grad_fn=<AddmmBackward0>)"
            ]
          },
          "metadata": {},
          "execution_count": 36
        }
      ]
    },
    {
      "cell_type": "code",
      "source": [
        "output_decoder=decoder(output_encoder).detach().cpu().numpy().reshape(28,28)"
      ],
      "metadata": {
        "id": "7Bat_R52l1K8"
      },
      "execution_count": 38,
      "outputs": []
    },
    {
      "cell_type": "code",
      "source": [
        "plt.imshow(output_decoder)"
      ],
      "metadata": {
        "colab": {
          "base_uri": "https://localhost:8080/",
          "height": 282
        },
        "id": "84LIV9IGmRgp",
        "outputId": "6b10e5f8-9efa-46cc-9567-06dafb8c5859"
      },
      "execution_count": 39,
      "outputs": [
        {
          "output_type": "execute_result",
          "data": {
            "text/plain": [
              "<matplotlib.image.AxesImage at 0x7f002ae1fa10>"
            ]
          },
          "metadata": {},
          "execution_count": 39
        },
        {
          "output_type": "display_data",
          "data": {
            "text/plain": [
              "<Figure size 432x288 with 1 Axes>"
            ],
            "image/png": "[encoded data removed]"
          },
          "metadata": {
            "needs_background": "light"
          }
        }
      ]
    },
    {
      "cell_type": "code",
      "source": [],
      "metadata": {
        "id": "q9egOLIimfZd"
      },
      "execution_count": null,
      "outputs": []
    }
  ]
}