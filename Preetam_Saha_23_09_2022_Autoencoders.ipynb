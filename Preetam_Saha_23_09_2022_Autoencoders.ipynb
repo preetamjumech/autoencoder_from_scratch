{
  "nbformat": 4,
  "nbformat_minor": 0,
  "metadata": {
    "colab": {
      "provenance": [],
      "collapsed_sections": [],
      "authorship_tag": "ABX9TyOFQUUy0v6SyVE1coKWfRuy",
      "include_colab_link": true
    },
    "kernelspec": {
      "name": "python3",
      "display_name": "Python 3"
    },
    "language_info": {
      "name": "python"
    },
    "accelerator": "GPU"
  },
  "cells": [
    {
      "cell_type": "markdown",
      "metadata": {
        "id": "view-in-github",
        "colab_type": "text"
      },
      "source": [
        "<a href=\"https://colab.research.google.com/github/preetamjumech/autoencoder_from_scratch/blob/main/Preetam_Saha_23_09_2022_Autoencoders.ipynb\" target=\"_parent\"><img src=\"https://colab.research.google.com/assets/colab-badge.svg\" alt=\"Open In Colab\"/></a>"
      ]
    },
    {
      "cell_type": "code",
      "execution_count": null,
      "metadata": {
        "id": "X13Hi-i2tKsg"
      },
      "outputs": [],
      "source": [
        "#add some amount of noise , auto encoder will remove the noise\n",
        "#pca, svd for dimensional reduction linear in nature\n",
        "#in autoencoder, one encoder one decoding layer, in images, features are highly correlated, extract features which are non linear in nature\n",
        "#to retain key features in input space, lesser no of dimension that is good thing,\n",
        "#in training we are interested in encoder and decoder bothe, in inference  \n",
        "#in inference either we are interested in encoder or interested in decoder, not both, (denoising the images - encoder and decoder both are required)"
      ]
    },
    {
      "cell_type": "code",
      "source": [
        "!wget https://github.com/MorvanZhou/PyTorch-Tutorial/raw/master/tutorial-contents-notebooks/mnist/processed/training.pt\n",
        "!wget https://github.com/MorvanZhou/PyTorch-Tutorial/raw/master/tutorial-contents-notebooks/mnist/processed/test.pt"
      ],
      "metadata": {
        "id": "53ltFiRguDVo"
      },
      "execution_count": null,
      "outputs": []
    },
    {
      "cell_type": "code",
      "source": [
        "#first dnn based autoencoder, then we will create convolutional based autocoder\n",
        "import torch\n",
        "import torch.nn as nn\n",
        "import torch.nn.functional as F\n",
        "from torch.optim import Adam\n",
        "from torch.utils.data import DataLoader, TensorDataset\n",
        "import matplotlib.pyplot as plt\n",
        "import numpy as np\n",
        "import pandas as pd\n"
      ],
      "metadata": {
        "id": "Q6UtSokiu304"
      },
      "execution_count": null,
      "outputs": []
    },
    {
      "cell_type": "code",
      "source": [
        "train, test = torch.load(\"training.pt\"), torch.load(\"test.pt\")"
      ],
      "metadata": {
        "id": "vitfrKN9vzgD"
      },
      "execution_count": null,
      "outputs": []
    },
    {
      "cell_type": "code",
      "source": [
        "(x_train, y_train), (x_test,y_test) = (train, test)"
      ],
      "metadata": {
        "id": "CVXA-B9Yv70i"
      },
      "execution_count": null,
      "outputs": []
    },
    {
      "cell_type": "code",
      "source": [
        "x_train = x_train.reshape(-1,28*28)/255.\n",
        "x_test = x_test.reshape(-1,28*28)/255."
      ],
      "metadata": {
        "id": "kZbBIbQdwRmx"
      },
      "execution_count": null,
      "outputs": []
    },
    {
      "cell_type": "code",
      "source": [
        "encoder = nn.Sequential(nn.Linear(in_features = 28*28, out_features= 256), # if im using linear activation , will be similiar to pca, we will use non-linear here\n",
        "                       nn.ReLU(),\n",
        "                       nn.Linear(in_features=256,out_features=128),\n",
        "                       nn.ReLU(),\n",
        "                       nn.Linear(in_features=128,out_features=64),\n",
        "                       nn.ReLU(),\n",
        "                       nn.Linear(in_features=64,out_features=16)) #starting from 764, ending with 16, significant number of reduction of columns"
      ],
      "metadata": {
        "id": "itYA0p7bwo1A"
      },
      "execution_count": null,
      "outputs": []
    },
    {
      "cell_type": "code",
      "source": [
        "decoder = nn.Sequential(nn.Linear(in_features = 16, out_features= 64), \n",
        "                       nn.ReLU(),\n",
        "                       nn.Linear(in_features=64,out_features=128),\n",
        "                       nn.ReLU(),\n",
        "                       nn.Linear(in_features=128,out_features=256),\n",
        "                       nn.ReLU(),\n",
        "                       nn.Linear(in_features=256,out_features=28*28)) #rate at which dimension was reduced , same rate to increase"
      ],
      "metadata": {
        "id": "Zc-bKDb1y0ca"
      },
      "execution_count": null,
      "outputs": []
    },
    {
      "cell_type": "code",
      "source": [
        "autoencoder = nn.Sequential(encoder,decoder) # we dont use batchnormalization, dropput in auto encoder, obj is to reach higher to lower dimension "
      ],
      "metadata": {
        "id": "0_uJJ-wrzipf"
      },
      "execution_count": null,
      "outputs": []
    },
    {
      "cell_type": "code",
      "source": [
        "#obj is to recreate the image, choice of loss function = RMSe, its a construction loss, we want to map this loss individual pixels.\n",
        "train_loader = DataLoader(TensorDataset(x_train.float(),y_train),\n",
        "                          batch_size=64,shuffle=True)\n",
        "val_loader = DataLoader(TensorDataset(x_test.float(),y_test),\n",
        "                          batch_size=64,shuffle=False)"
      ],
      "metadata": {
        "id": "T-muduQjznWw"
      },
      "execution_count": null,
      "outputs": []
    },
    {
      "cell_type": "code",
      "source": [
        "device = torch.device(\"cuda\") if torch.cuda.is_available() else \"cpu\""
      ],
      "metadata": {
        "id": "eg6xJs2707Ye"
      },
      "execution_count": null,
      "outputs": []
    },
    {
      "cell_type": "code",
      "source": [
        "epochs=50\n",
        "autoencoder = autoencoder.to(device)\n",
        "opt = Adam(autoencoder.parameters())"
      ],
      "metadata": {
        "id": "iBDMK2w_1IXL"
      },
      "execution_count": null,
      "outputs": []
    },
    {
      "cell_type": "code",
      "source": [
        "#good practice to use a function instead of for loop\n",
        "def train(model,train_loader,val_loader,opt,epoch):\n",
        "  training_loss = 0.0\n",
        "  val_loss = 0.0\n",
        "\n",
        "#training portion\n",
        "  for batch, _ in train_loader: #not building any classification model, so input = ouput\n",
        "    batch = batch.to(device)\n",
        "    target = batch.to(device)\n",
        "\n",
        "    opt.zero_grad()\n",
        "    train_output = model(batch)\n",
        "    train_loss = F.mse_loss(train_output,target)\n",
        "    train_loss.backward()\n",
        "    opt.step()\n",
        "    training_loss += train_loss.item()\n",
        "\n",
        "  if (epoch+1) %  10 ==0:\n",
        "    print(f\"Train loss: {training_loss}\")\n",
        "\n",
        "#validation part\n",
        "  with torch.no_grad():\n",
        "    for val_batch, _ in val_loader:\n",
        "      val_batch = val_batch.to(device)\n",
        "      val_target = val_batch.to(device)\n",
        "      \n",
        "      val_output = model(val_batch)\n",
        "      loss_val = F.mse_loss(val_output,val_target)\n",
        "      val_loss += loss_val.item()\n",
        "\n",
        "  \n",
        "  if (epoch+1) %  10 ==0:\n",
        "    print(f\"Train loss: {training_loss} and Val loss: {val_loss}\")\n",
        "\n",
        "  return (training_loss, val_loss)"
      ],
      "metadata": {
        "id": "xSKtAdSa1b5k"
      },
      "execution_count": null,
      "outputs": []
    },
    {
      "cell_type": "code",
      "source": [
        "losses = []\n",
        "for epoch in range(epochs):\n",
        "  losses.append(train(autoencoder,train_loader=train_loader, val_loader=val_loader,\n",
        "                      opt=opt,epoch=epoch)) #epoch only for prininting, nothinh to do with training"
      ],
      "metadata": {
        "colab": {
          "base_uri": "https://localhost:8080/"
        },
        "id": "sYm2gEyC62Eb",
        "outputId": "0fe85a6c-d4b0-465e-8c60-53c9d7a4f9f6"
      },
      "execution_count": null,
      "outputs": [
        {
          "output_type": "stream",
          "name": "stdout",
          "text": [
            "Train loss: 13.785349544137716\n",
            "Train loss: 13.785349544137716 and Val loss: 2.257694525644183\n",
            "Train loss: 11.91914537269622\n",
            "Train loss: 11.91914537269622 and Val loss: 1.9960096143186092\n",
            "Train loss: 11.180045291781425\n",
            "Train loss: 11.180045291781425 and Val loss: 1.8780414666980505\n",
            "Train loss: 10.738649767823517\n",
            "Train loss: 10.738649767823517 and Val loss: 1.8042737180367112\n",
            "Train loss: 10.456409282051027\n",
            "Train loss: 10.456409282051027 and Val loss: 1.785088049247861\n"
          ]
        }
      ]
    },
    {
      "cell_type": "code",
      "source": [
        "idx = 20\n",
        "img_arbit = x_test[idx]"
      ],
      "metadata": {
        "id": "eqAvk7d5-TSE"
      },
      "execution_count": null,
      "outputs": []
    },
    {
      "cell_type": "code",
      "source": [
        "plt.imshow(img_arbit.numpy().reshape(28,28))"
      ],
      "metadata": {
        "colab": {
          "base_uri": "https://localhost:8080/",
          "height": 283
        },
        "id": "i1BtecnJ-lns",
        "outputId": "a36cc48c-6e45-4fb0-fd9f-4809685ae521"
      },
      "execution_count": null,
      "outputs": [
        {
          "output_type": "execute_result",
          "data": {
            "text/plain": [
              "<matplotlib.image.AxesImage at 0x7f9d001f4490>"
            ]
          },
          "metadata": {},
          "execution_count": 37
        },
        {
          "output_type": "display_data",
          "data": {
            "text/plain": [
              "<Figure size 432x288 with 1 Axes>"
            ],
            "image/png": "[encoded data removed]"
          },
          "metadata": {
            "needs_background": "light"
          }
        }
      ]
    },
    {
      "cell_type": "code",
      "source": [
        "#here also kind of embeeding not exactly like text\n",
        "input_data = img_arbit.reshape(1,-1).float().to(device)"
      ],
      "metadata": {
        "id": "pPZIG6aO-0P2"
      },
      "execution_count": null,
      "outputs": []
    },
    {
      "cell_type": "code",
      "source": [
        "output_encoder = encoder(input_data)\n",
        "output_encoder"
      ],
      "metadata": {
        "colab": {
          "base_uri": "https://localhost:8080/"
        },
        "id": "Cdcd7Tpx_OcT",
        "outputId": "a22ec804-d7da-4792-c71a-8166a7487131"
      },
      "execution_count": null,
      "outputs": [
        {
          "output_type": "execute_result",
          "data": {
            "text/plain": [
              "tensor([[-1.0967,  1.4813,  0.4142,  0.3497, -0.1225,  0.6258,  0.8599, -0.5653,\n",
              "         -0.8530, -0.0474, -0.2781,  0.6254,  0.2057,  0.1826,  0.0877,  0.7132]],\n",
              "       device='cuda:0', grad_fn=<AddmmBackward0>)"
            ]
          },
          "metadata": {},
          "execution_count": 39
        }
      ]
    },
    {
      "cell_type": "code",
      "source": [
        "output_decoder=decoder(output_encoder).detach().cpu().numpy().reshape(28,28)"
      ],
      "metadata": {
        "id": "W5Z6RHM8BUOQ"
      },
      "execution_count": null,
      "outputs": []
    },
    {
      "cell_type": "code",
      "source": [
        "plt.imshow(output_decoder)"
      ],
      "metadata": {
        "colab": {
          "base_uri": "https://localhost:8080/",
          "height": 283
        },
        "id": "k6pGJJqa_-Ss",
        "outputId": "675288d4-7dd3-44ba-e6cb-94bb323e6168"
      },
      "execution_count": null,
      "outputs": [
        {
          "output_type": "execute_result",
          "data": {
            "text/plain": [
              "<matplotlib.image.AxesImage at 0x7f9d001094d0>"
            ]
          },
          "metadata": {},
          "execution_count": 45
        },
        {
          "output_type": "display_data",
          "data": {
            "text/plain": [
              "<Figure size 432x288 with 1 Axes>"
            ],
            "image/png": "[encoded data removed]"
          },
          "metadata": {
            "needs_background": "light"
          }
        }
      ]
    },
    {
      "cell_type": "code",
      "source": [
        "#this is vanila autoencoders  , another one is VAE"
      ],
      "metadata": {
        "id": "tPL17uN8AEyv"
      },
      "execution_count": null,
      "outputs": []
    }
  ]
}